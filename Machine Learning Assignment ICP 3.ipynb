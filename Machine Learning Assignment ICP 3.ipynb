{
 "cells": [
  {
   "cell_type": "markdown",
   "metadata": {
    "colab_type": "text",
    "id": "view-in-github"
   },
   "source": [
    "<a href=\"https://colab.research.google.com/github/Mohith-0/ML_IP_3/blob/main/Machine_Learning_Assignment_03_(1).ipynb\" target=\"_parent\"><img src=\"https://colab.research.google.com/assets/colab-badge.svg\" alt=\"Open In Colab\"/></a>"
   ]
  },
  {
   "cell_type": "markdown",
   "metadata": {
    "id": "i119VhueFqG0",
    "outputId": "9ff25b34-ca9c-4c01-ebe8-dacba4b915f9"
   },
   "source": [
    "# Numpy"
   ]
  },
  {
   "cell_type": "code",
   "execution_count": 1,
   "metadata": {
    "id": "p2HVlkjxqSYp",
    "outputId": "4107ecab-23ce-4cbf-ca91-c7d8697bf120"
   },
   "outputs": [
    {
     "name": "stdout",
     "output_type": "stream",
     "text": [
      "[ 6 16  6 12  4  8  6 12  2 20  6 20  4 12 10]\n",
      "[[ 6 16  6 12  4]\n",
      " [ 8  6 12  2 20]\n",
      " [ 6 20  4 12 10]]\n",
      "(3, 5)\n",
      "[[ 6  0  6 12  4]\n",
      " [ 8  6 12  2  0]\n",
      " [ 6  0  4 12 10]]\n"
     ]
    }
   ],
   "source": [
    "import numpy as np\n",
    "\n",
    "# Creating a random vector of size 15 with integers of range 1-20\n",
    "random_vector = np.random.randint(low=1, high=21, size=15)\n",
    "print(random_vector)\n",
    "\n",
    "# Reshaping the vector to 3 by 5 array\n",
    "array_3x5 = random_vector.reshape(3, 5)\n",
    "print(array_3x5)\n",
    "\n",
    "# Printing the shape of the array\n",
    "print(array_3x5.shape)\n",
    "\n",
    "# Replacing the max in each row by 0\n",
    "array_3x5[np.arange(3), array_3x5.argmax(axis=1)] = 0\n",
    "\n",
    "# Printing the modified array\n",
    "print(array_3x5)"
   ]
  },
  {
   "cell_type": "code",
   "execution_count": 3,
   "metadata": {
    "id": "Hp-P4jjYqSYq",
    "outputId": "111440a6-d769-4088-956c-3f912e982154"
   },
   "outputs": [
    {
     "name": "stdout",
     "output_type": "stream",
     "text": [
      "[[ 3  2  1]\n",
      " [ 6  5  4]\n",
      " [ 9  8  7]\n",
      " [12 11 10]]\n",
      "Shape: (4, 3)\n",
      "Type: <class 'numpy.ndarray'>\n",
      "Data Type: int32\n"
     ]
    }
   ],
   "source": [
    "import numpy as np\n",
    "\n",
    "arr = np.array([[3, 2, 1], [6, 5, 4], [9, 8, 7], [12, 11, 10]], dtype=np.int32)\n",
    "# Printing the actual Array\n",
    "print(arr)\n",
    "# Printing the Shape pf the Array\n",
    "print(f\"Shape: {arr.shape}\")\n",
    "# Printing the Type pf the Array\n",
    "print(f\"Type: {type(arr)}\")\n",
    "# Printing the Data Type of the array\n",
    "print(f\"Data Type: {arr.dtype}\")\n"
   ]
  },
  {
   "cell_type": "code",
   "execution_count": 4,
   "metadata": {
    "colab": {
     "base_uri": "https://localhost:8080/"
    },
    "id": "4tmnRAfpF4K1",
    "outputId": "012512bb-c5f6-4108-eff8-23b30a269e5d"
   },
   "outputs": [
    {
     "name": "stdout",
     "output_type": "stream",
     "text": [
      "[[ 3 -2]\n",
      " [ 1  0]]\n",
      "Eigenvalues:  [2. 1.]\n",
      "Right eigenvectors:\n",
      " [[0.89442719 0.70710678]\n",
      " [0.4472136  0.70710678]]\n"
     ]
    }
   ],
   "source": [
    "import numpy as np\n",
    "\n",
    "# Defining the input matrix\n",
    "A = np.array([[3, -2], [1, 0]])\n",
    "print(A)\n",
    "# Computing the eigenvalues and right eigenvectors\n",
    "eigenvalues, eigenvectors = np.linalg.eig(A)\n",
    "\n",
    "# Printing the results\n",
    "print(\"Eigenvalues: \", eigenvalues)\n",
    "print(\"Right eigenvectors:\\n\", eigenvectors)\n"
   ]
  },
  {
   "cell_type": "code",
   "execution_count": 7,
   "metadata": {
    "colab": {
     "base_uri": "https://localhost:8080/"
    },
    "id": "fmM6ms9XF8tX",
    "outputId": "ba0400df-3ddf-44a4-9f52-84aacacf1b25"
   },
   "outputs": [
    {
     "name": "stdout",
     "output_type": "stream",
     "text": [
      "Sum of diagonal elements: 4\n"
     ]
    }
   ],
   "source": [
    "import numpy as np\n",
    "\n",
    "# Defining the input array\n",
    "A = np.array([[0, 1, 2], [3, 4, 5]])\n",
    "\n",
    "# Computing the sum of the diagonal elements\n",
    "diag_sum = np.trace(A)\n",
    "\n",
    "# Printing the result\n",
    "print(\"Sum of diagonal elements:\", diag_sum)\n",
    "\n"
   ]
  },
  {
   "cell_type": "code",
   "execution_count": 9,
   "metadata": {
    "colab": {
     "base_uri": "https://localhost:8080/"
    },
    "id": "TCwS_tMcGBPY",
    "outputId": "97423736-7ccc-4e82-95ec-d7530b20972a"
   },
   "outputs": [
    {
     "name": "stdout",
     "output_type": "stream",
     "text": [
      "Original array:\n",
      " [[1 2]\n",
      " [3 4]\n",
      " [5 6]]\n",
      "Reshaped array:\n",
      " [[1 2 3]\n",
      " [4 5 6]]\n"
     ]
    }
   ],
   "source": [
    "import numpy as np\n",
    "\n",
    "# Defining the input array\n",
    "A = np.array([[1, 2], [3, 4], [5, 6]])\n",
    "\n",
    "# Reshaping the array to a 2x3 shape without changing its data\n",
    "B = A.reshape((2, 3))\n",
    "\n",
    "# Printing the original and reshaped arrays\n",
    "print(\"Original array:\\n\", A)\n",
    "print(\"Reshaped array:\\n\", B)\n"
   ]
  },
  {
   "cell_type": "code",
   "execution_count": null,
   "metadata": {},
   "outputs": [],
   "source": []
  },
  {
   "cell_type": "code",
   "execution_count": null,
   "metadata": {},
   "outputs": [],
   "source": []
  },
  {
   "cell_type": "code",
   "execution_count": null,
   "metadata": {},
   "outputs": [],
   "source": []
  },
  {
   "cell_type": "code",
   "execution_count": null,
   "metadata": {},
   "outputs": [],
   "source": []
  },
  {
   "cell_type": "code",
   "execution_count": null,
   "metadata": {},
   "outputs": [],
   "source": []
  },
  {
   "cell_type": "code",
   "execution_count": null,
   "metadata": {},
   "outputs": [],
   "source": []
  }
 ],
 "metadata": {
  "colab": {
   "include_colab_link": true,
   "provenance": []
  },
  "kernelspec": {
   "display_name": "Python 3 (ipykernel)",
   "language": "python",
   "name": "python3"
  },
  "language_info": {
   "codemirror_mode": {
    "name": "ipython",
    "version": 3
   },
   "file_extension": ".py",
   "mimetype": "text/x-python",
   "name": "python",
   "nbconvert_exporter": "python",
   "pygments_lexer": "ipython3",
   "version": "3.11.5"
  }
 },
 "nbformat": 4,
 "nbformat_minor": 4
}
